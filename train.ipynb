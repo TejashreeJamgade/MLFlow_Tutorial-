{
 "cells": [
  {
   "cell_type": "markdown",
   "id": "7663aa50",
   "metadata": {},
   "source": [
    "### Import dependecies"
   ]
  },
  {
   "cell_type": "code",
   "execution_count": 1,
   "id": "d719c1e5",
   "metadata": {},
   "outputs": [],
   "source": [
    "from sklearn.linear_model import ElasticNet\n",
    "import numpy as np\n",
    "from sklearn.metrics import r2_score,mean_squared_error,mean_absolute_error\n",
    "import mlflow\n",
    "import mlflow.sklearn"
   ]
  },
  {
   "cell_type": "markdown",
   "id": "d8cdf092",
   "metadata": {},
   "source": [
    "### Simple dataset for regression"
   ]
  },
  {
   "cell_type": "code",
   "execution_count": 2,
   "id": "69019161",
   "metadata": {},
   "outputs": [],
   "source": [
    "x=np.array([1,2,3,4,5,6]).reshape(-1,1)\n",
    "y=np.array([11,22,33,55,44,66])"
   ]
  },
  {
   "cell_type": "markdown",
   "id": "05602237",
   "metadata": {},
   "source": [
    "### End the existing run if any"
   ]
  },
  {
   "cell_type": "code",
   "execution_count": 3,
   "id": "522bc4ab",
   "metadata": {},
   "outputs": [],
   "source": [
    "try:\n",
    "    mlflow.end_run() \n",
    "except:\n",
    "    pass"
   ]
  },
  {
   "cell_type": "code",
   "execution_count": 4,
   "id": "707b07a8",
   "metadata": {},
   "outputs": [],
   "source": [
    "alphas=[0.5,1,1.5]\n",
    "l1_ratios=[0.5,1]"
   ]
  },
  {
   "cell_type": "code",
   "execution_count": 5,
   "id": "d7b52f07",
   "metadata": {},
   "outputs": [],
   "source": [
    "for alpha in alphas:\n",
    "    for l1_ratio in l1_ratios:\n",
    "        with mlflow.start_run():\n",
    "            model=ElasticNet(alpha=alpha, l1_ratio=l1_ratio, random_state=42)\n",
    "            model.fit(x, y)\n",
    "            y_pred = model.predict(x)\n",
    "\n",
    "            # Metrics\n",
    "            r2=r2_score(y,y_pred)\n",
    "            MSE=mean_squared_error(y,y_pred)\n",
    "            MAE=mean_absolute_error(y,y_pred)\n",
    "\n",
    "            #logging params\n",
    "            mlflow.log_param(\"alpha\", alpha)\n",
    "            mlflow.log_param(\"l1_ratio\", l1_ratio)\n",
    "\n",
    "            # logging metrics\n",
    "            mlflow.log_metric(\"MSE\", MSE)\n",
    "            mlflow.log_metric(\"MAE\", MAE)\n",
    "            mlflow.log_metric(\"r2\", r2)\n",
    "\n",
    "            # mlflow model logging \n",
    "            mlflow.sklearn.log_model(model, \"model\")"
   ]
  },
  {
   "cell_type": "code",
   "execution_count": 19,
   "id": "0274c9ce",
   "metadata": {},
   "outputs": [
    {
     "name": "stdout",
     "output_type": "stream",
     "text": [
      "[2022-09-10 19:47:50 +0530] [1380366] [INFO] Starting gunicorn 20.1.0\n",
      "[2022-09-10 19:47:50 +0530] [1380366] [INFO] Listening at: http://127.0.0.1:5000 (1380366)\n",
      "[2022-09-10 19:47:50 +0530] [1380366] [INFO] Using worker: sync\n",
      "[2022-09-10 19:47:50 +0530] [1380369] [INFO] Booting worker with pid: 1380369\n",
      "^C\n",
      "[2022-09-10 19:48:04 +0530] [1380366] [INFO] Handling signal: int\n",
      "[2022-09-10 19:48:04 +0530] [1380369] [INFO] Worker exiting (pid: 1380369)\n"
     ]
    }
   ],
   "source": [
    "!mlflow ui"
   ]
  }
 ],
 "metadata": {
  "kernelspec": {
   "display_name": "Python 3 (ipykernel)",
   "language": "python",
   "name": "python3"
  },
  "language_info": {
   "codemirror_mode": {
    "name": "ipython",
    "version": 3
   },
   "file_extension": ".py",
   "mimetype": "text/x-python",
   "name": "python",
   "nbconvert_exporter": "python",
   "pygments_lexer": "ipython3",
   "version": "3.8.8"
  }
 },
 "nbformat": 4,
 "nbformat_minor": 5
}
